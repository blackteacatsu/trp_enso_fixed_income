{
 "cells": [
  {
   "cell_type": "code",
   "execution_count": 7,
   "id": "f603d48e",
   "metadata": {},
   "outputs": [],
   "source": [
    "import os, sys, glob, subprocess, shlex\n",
    "from pathlib import Path"
   ]
  },
  {
   "cell_type": "code",
   "execution_count": 17,
   "id": "ffde47c9",
   "metadata": {},
   "outputs": [
    {
     "name": "stdout",
     "output_type": "stream",
     "text": [
      "/etc/profile.d/modules.sh\n",
      "/data/apps/extern/nco/5.0.8/bin/ncrcat\n"
     ]
    },
    {
     "name": "stderr",
     "output_type": "stream",
     "text": [
      "NCO netCDF Operators version 5.0.8-alpha01 \"QuickBlade\" built by apate168 on login02 at May 20 2022 16:59:02\n",
      "ncrcat version 5.0.8-alpha01\n"
     ]
    },
    {
     "data": {
      "text/plain": [
       "CompletedProcess(args=['ncrcat', '--version'], returncode=0)"
      ]
     },
     "execution_count": 17,
     "metadata": {},
     "output_type": "execute_result"
    }
   ],
   "source": [
    "INIT_CANDIDATES = [\n",
    "    \"/etc/profile.d/modules.sh\",\n",
    "    \"/usr/share/Modules/init/bash\",\n",
    "    \"/etc/profile.d/lmod.sh\",\n",
    "]\n",
    "# Load NCO module into Python process' env\n",
    "def import_module_env(mod=\"nco\"):\n",
    "    last_err = None\n",
    "    for init in INIT_CANDIDATES:\n",
    "        print(init)\n",
    "        try:\n",
    "            # Start a login-like shell, source modules init, load module, print env as NUL-separated pairs\n",
    "            out = subprocess.check_output(\n",
    "                [\"bash\", \"-lc\", f\"source {init} 2>/dev/null || true; \"\n",
    "                                f\"type module >/dev/null 2>&1 || return 127; \"\n",
    "                                f\"module load {mod}; env -0\"],\n",
    "                stderr=subprocess.STDOUT\n",
    "            )\n",
    "            # Parse env -0\n",
    "            for entry in out.split(b\"\\x00\"):\n",
    "                if not entry:\n",
    "                    continue\n",
    "                k, _, v = entry.partition(b\"=\")\n",
    "                os.environ[k.decode()] = v.decode()\n",
    "            return\n",
    "        except subprocess.CalledProcessError as e:\n",
    "            last_err = e\n",
    "            continue\n",
    "    raise RuntimeError(\"Failed to import module environment; adjust INIT_CANDIDATES\") from last_err\n",
    "\n",
    "# Use it once:\n",
    "import_module_env(\"nco\")\n",
    "\n",
    "# Now plain calls work:\n",
    "import subprocess\n",
    "subprocess.run([\"which\", \"ncrcat\"], check=True)\n",
    "subprocess.run([\"ncrcat\", \"--version\"], check=True)"
   ]
  },
  {
   "cell_type": "code",
   "execution_count": 18,
   "id": "7498119c",
   "metadata": {},
   "outputs": [],
   "source": [
    "# --------------------------\n",
    "# CONFIGURE PATHS\n",
    "# --------------------------\n",
    "HOURLY_DIR = Path(\"/vast/bzaitch1/trp_climate_model_data/era5land_1970_2024_hourly\")      # directory with hourly files\n",
    "QUARTER_DIR = Path(\"/vast/bzaitch1/trp_climate_model_data/era5land_1970_2024_qtrmean\")\n",
    "QUARTER_DIR.mkdir(parents=True, exist_ok=True)    # output: quarterly means\n",
    "\n",
    "INIT = INIT_CANDIDATES[0]  # for subprocess calls\n",
    "\n",
    "YEARS = range(1979, 2025)\n",
    "QUARTERS = [\n",
    "    (\"01\", \"02\", \"03\"),  # Q1\n",
    "    (\"04\", \"05\", \"06\"),  # Q2\n",
    "    (\"07\", \"08\", \"09\"),  # Q3\n",
    "    (\"10\", \"11\", \"12\"),  # Q4\n",
    "]\n",
    "\n",
    "# Hourly filename pattern:\n",
    "# One file per month:    YYYY_MM.nc\n",
    "PATTERN_PER_MONTH = \"{y}_{m}.nc\"   # for one file per month\n",
    "\n",
    "\n",
    "# --------------------------\n",
    "# CONFIGURE ENVIRONMENT\n",
    "# --------------------------\n",
    "os.environ.setdefault(\"HDF5_USE_FILE_LOCKING\", \"FALSE\")\n",
    "os.environ[\"NETCDF_HDF5_FILE_LOCKING\"] = \"FALSE\"\n",
    "\n",
    "# --------------------------\n",
    "# HELPERS\n",
    "# --------------------------\n",
    "def run(cmd):\n",
    "    print(\"$\", cmd)\n",
    "    subprocess.run(cmd, shell=True, check=True)\n",
    "\n",
    "def time_is_unlimited(nc_path: Path) -> bool:\n",
    "    \"\"\"Return True if 'time' is UNLIMITED in the file.\"\"\"\n",
    "    chk = f'ncks -m \"{nc_path}\" | grep -q \"time = UNLIMITED\"'\n",
    "    res = subprocess.run([\"bash\",\"-lc\", f\"source {INIT} 2>/dev/null || true; module load nco; {chk}\"])\n",
    "    return res.returncode == 0\n",
    "\n",
    "def make_time_unlimited(nc_path: Path):\n",
    "    \"\"\"Make the time dimension unlimited in-place.\"\"\"\n",
    "    tmp = nc_path.with_suffix(nc_path.suffix + \".tmp\")\n",
    "    run(f'ncks -O -4 -L 1 --mk_rec_dmn time \"{nc_path}\" \"{tmp}\" && mv \"{tmp}\" \"{nc_path}\"')"
   ]
  },
  {
   "cell_type": "code",
   "execution_count": 13,
   "id": "63eefcfe",
   "metadata": {},
   "outputs": [
    {
     "ename": "NameError",
     "evalue": "name 'MONTHLY_DIR' is not defined",
     "output_type": "error",
     "traceback": [
      "\u001b[31m---------------------------------------------------------------------------\u001b[39m",
      "\u001b[31mNameError\u001b[39m                                 Traceback (most recent call last)",
      "\u001b[36mCell\u001b[39m\u001b[36m \u001b[39m\u001b[32mIn[13]\u001b[39m\u001b[32m, line 17\u001b[39m\n\u001b[32m      9\u001b[39m     \u001b[38;5;28;01mcontinue\u001b[39;00m\n\u001b[32m     10\u001b[39m \u001b[38;5;66;03m# --------------------------\u001b[39;00m\n\u001b[32m     11\u001b[39m \u001b[38;5;66;03m# 1) HOURLY → MONTHLY (hourly-weighted)\u001b[39;00m\n\u001b[32m     12\u001b[39m \u001b[38;5;66;03m#    - If multiple hourly files per month exist, we first ncrcat them.\u001b[39;00m\n\u001b[32m   (...)\u001b[39m\u001b[32m     15\u001b[39m \n\u001b[32m     16\u001b[39m \u001b[38;5;66;03m# If multiple files, concat to a temp stack; else use the single file directly\u001b[39;00m\n\u001b[32m---> \u001b[39m\u001b[32m17\u001b[39m tmp_stack = \u001b[43mMONTHLY_DIR\u001b[49m / \u001b[33mf\u001b[39m\u001b[33m\"\u001b[39m\u001b[38;5;132;01m{\u001b[39;00my\u001b[38;5;132;01m}\u001b[39;00m\u001b[33m_\u001b[39m\u001b[38;5;132;01m{\u001b[39;00mm\u001b[38;5;132;01m}\u001b[39;00m\u001b[33m_all.nc\u001b[39m\u001b[33m\"\u001b[39m\n\u001b[32m     18\u001b[39m \u001b[38;5;28;01mif\u001b[39;00m \u001b[38;5;28mlen\u001b[39m(files) == \u001b[32m1\u001b[39m:\n\u001b[32m     19\u001b[39m     stack_in = files[\u001b[32m0\u001b[39m]\n",
      "\u001b[31mNameError\u001b[39m: name 'MONTHLY_DIR' is not defined"
     ]
    }
   ],
   "source": [
    "for y in YEARS:\n",
    "    y = int(y)\n",
    "    for m in MONTHS:\n",
    "        # Find inputs for this month\n",
    "        monthly_glob = HOURLY_DIR / PATTERN_PER_MONTH.format(y=y, m=m)\n",
    "        files = sorted(glob.glob(str(monthly_glob)))\n",
    "        if not files:\n",
    "            print(f\"[skip] No hourly files for {y}-{m}\")\n",
    "            continue\n",
    "        # --------------------------\n",
    "        # 1) HOURLY → MONTHLY (hourly-weighted)\n",
    "        #    - If multiple hourly files per month exist, we first ncrcat them.\n",
    "        #    - Then ncra over time to monthly mean.\n",
    "        # --------------------------\n",
    "\n",
    "        # If multiple files, concat to a temp stack; else use the single file directly\n",
    "        tmp_stack = MONTHLY_DIR / f\"{y}_{m}_all.nc\"\n",
    "        if len(files) == 1:\n",
    "            stack_in = files[0]\n",
    "        else:\n",
    "            # Concatenate along time\n",
    "            run([\"ncrcat\", \"-O\", *files, str(tmp_stack)])\n",
    "            stack_in = str(tmp_stack)\n",
    "\n",
    "        # Monthly mean (hourly-weighted)\n",
    "        mon_out = MONTHLY_DIR / f\"{y}_{m}_monmean.nc\"\n",
    "        run([\"ncra\", *NCO_FLAGS, stack_in, str(mon_out)])\n",
    "\n",
    "        # Cleanup temp stack if we created it\n",
    "        if str(stack_in) == str(tmp_stack) and tmp_stack.exists():\n",
    "            tmp_stack.unlink()\n",
    "\n",
    "print(\"Monthly means complete →\", MONTHLY_DIR)"
   ]
  },
  {
   "cell_type": "code",
   "execution_count": null,
   "id": "3e6ab7b1",
   "metadata": {},
   "outputs": [],
   "source": [
    "# --------------------------\n",
    "# 2) QUARTERLY (hourly-weighted)\n",
    "#    Concatenate ALL hourly files for the three months, then ncra once.\n",
    "# --------------------------\n",
    "for y in YEARS:\n",
    "    y = int(y)\n",
    "    for q_idx, (m1, m2, m3) in enumerate(QUARTERS, start=1):\n",
    "        # Gather all hourly files for the 3 months\n",
    "        f1 = sorted(glob.glob(str(HOURLY_DIR / PATTERN_PER_MONTH.format(y=y, m=m1))))\n",
    "        f2 = sorted(glob.glob(str(HOURLY_DIR / PATTERN_PER_MONTH.format(y=y, m=m2))))\n",
    "        f3 = sorted(glob.glob(str(HOURLY_DIR / PATTERN_PER_MONTH.format(y=y, m=m3))))\n",
    "        all_files = f1 + f2 + f3\n",
    "\n",
    "        if not all_files:\n",
    "            print(f\"[skip] No hourly files for {y} Q{q_idx}\")\n",
    "            continue\n",
    "\n",
    "        tmp_q_stack = QUARTER_DIR / f\"{y}_Q{q_idx}_all.nc\"\n",
    "        q_out       = QUARTER_DIR / f\"{y}_Q{q_idx}_qmean.nc\"\n",
    "\n",
    "        # Concatenate all hours in the quarter\n",
    "        run([\"ncrcat\", \"-O\", *all_files, str(tmp_q_stack)])\n",
    "\n",
    "        # Quarterly mean (hourly-weighted)\n",
    "        run([\"ncra\", *NCO_FLAGS, str(tmp_q_stack), str(q_out)])\n",
    "\n",
    "        # Cleanup\n",
    "        if tmp_q_stack.exists():\n",
    "            tmp_q_stack.unlink()\n",
    "\n",
    "print(\"Quarterly means complete →\", QUARTER_DIR)"
   ]
  },
  {
   "cell_type": "code",
   "execution_count": 19,
   "id": "f650f07c",
   "metadata": {},
   "outputs": [
    {
     "name": "stdout",
     "output_type": "stream",
     "text": [
      "Making time unlimited in /vast/bzaitch1/trp_climate_model_data/era5land_1970_2024_hourly/1970_01.nc\n",
      "$ ncks -O -4 -L 1 --mk_rec_dmn time \"/vast/bzaitch1/trp_climate_model_data/era5land_1970_2024_hourly/1970_01.nc\" \"/vast/bzaitch1/trp_climate_model_data/era5land_1970_2024_hourly/1970_01.nc.tmp\" && mv \"/vast/bzaitch1/trp_climate_model_data/era5land_1970_2024_hourly/1970_01.nc.tmp\" \"/vast/bzaitch1/trp_climate_model_data/era5land_1970_2024_hourly/1970_01.nc\"\n"
     ]
    },
    {
     "name": "stderr",
     "output_type": "stream",
     "text": [
      "/bin/sh: line 1: 1221761 Killed                  ncks -O -4 -L 1 --mk_rec_dmn time \"/vast/bzaitch1/trp_climate_model_data/era5land_1970_2024_hourly/1970_01.nc\" \"/vast/bzaitch1/trp_climate_model_data/era5land_1970_2024_hourly/1970_01.nc.tmp\"\n"
     ]
    },
    {
     "ename": "CalledProcessError",
     "evalue": "Command 'ncks -O -4 -L 1 --mk_rec_dmn time \"/vast/bzaitch1/trp_climate_model_data/era5land_1970_2024_hourly/1970_01.nc\" \"/vast/bzaitch1/trp_climate_model_data/era5land_1970_2024_hourly/1970_01.nc.tmp\" && mv \"/vast/bzaitch1/trp_climate_model_data/era5land_1970_2024_hourly/1970_01.nc.tmp\" \"/vast/bzaitch1/trp_climate_model_data/era5land_1970_2024_hourly/1970_01.nc\"' returned non-zero exit status 137.",
     "output_type": "error",
     "traceback": [
      "\u001b[31m---------------------------------------------------------------------------\u001b[39m",
      "\u001b[31mCalledProcessError\u001b[39m                        Traceback (most recent call last)",
      "\u001b[36mCell\u001b[39m\u001b[36m \u001b[39m\u001b[32mIn[19]\u001b[39m\u001b[32m, line 8\u001b[39m\n\u001b[32m      6\u001b[39m \u001b[38;5;28;01mif\u001b[39;00m \u001b[38;5;129;01mnot\u001b[39;00m time_is_unlimited(monthly_file):\n\u001b[32m      7\u001b[39m     \u001b[38;5;28mprint\u001b[39m(\u001b[33mf\u001b[39m\u001b[33m\"\u001b[39m\u001b[33mMaking time unlimited in \u001b[39m\u001b[38;5;132;01m{\u001b[39;00mmonthly_file\u001b[38;5;132;01m}\u001b[39;00m\u001b[33m\"\u001b[39m)\n\u001b[32m----> \u001b[39m\u001b[32m8\u001b[39m     \u001b[43mmake_time_unlimited\u001b[49m\u001b[43m(\u001b[49m\u001b[43mmonthly_file\u001b[49m\u001b[43m)\u001b[49m\n\u001b[32m      9\u001b[39m \u001b[38;5;28;01melse\u001b[39;00m:\n\u001b[32m     10\u001b[39m     \u001b[38;5;28mprint\u001b[39m(\u001b[33mf\u001b[39m\u001b[33m\"\u001b[39m\u001b[33m✓ Record dim OK: \u001b[39m\u001b[38;5;132;01m{\u001b[39;00mf.name\u001b[38;5;132;01m}\u001b[39;00m\u001b[33m\"\u001b[39m)\n",
      "\u001b[36mCell\u001b[39m\u001b[36m \u001b[39m\u001b[32mIn[18]\u001b[39m\u001b[32m, line 45\u001b[39m, in \u001b[36mmake_time_unlimited\u001b[39m\u001b[34m(nc_path)\u001b[39m\n\u001b[32m     43\u001b[39m \u001b[38;5;250m\u001b[39m\u001b[33;03m\"\"\"Make the time dimension unlimited in-place.\"\"\"\u001b[39;00m\n\u001b[32m     44\u001b[39m tmp = nc_path.with_suffix(nc_path.suffix + \u001b[33m\"\u001b[39m\u001b[33m.tmp\u001b[39m\u001b[33m\"\u001b[39m)\n\u001b[32m---> \u001b[39m\u001b[32m45\u001b[39m \u001b[43mrun\u001b[49m\u001b[43m(\u001b[49m\u001b[33;43mf\u001b[39;49m\u001b[33;43m'\u001b[39;49m\u001b[33;43mncks -O -4 -L 1 --mk_rec_dmn time \u001b[39;49m\u001b[33;43m\"\u001b[39;49m\u001b[38;5;132;43;01m{\u001b[39;49;00m\u001b[43mnc_path\u001b[49m\u001b[38;5;132;43;01m}\u001b[39;49;00m\u001b[33;43m\"\u001b[39;49m\u001b[33;43m \u001b[39;49m\u001b[33;43m\"\u001b[39;49m\u001b[38;5;132;43;01m{\u001b[39;49;00m\u001b[43mtmp\u001b[49m\u001b[38;5;132;43;01m}\u001b[39;49;00m\u001b[33;43m\"\u001b[39;49m\u001b[33;43m && mv \u001b[39;49m\u001b[33;43m\"\u001b[39;49m\u001b[38;5;132;43;01m{\u001b[39;49;00m\u001b[43mtmp\u001b[49m\u001b[38;5;132;43;01m}\u001b[39;49;00m\u001b[33;43m\"\u001b[39;49m\u001b[33;43m \u001b[39;49m\u001b[33;43m\"\u001b[39;49m\u001b[38;5;132;43;01m{\u001b[39;49;00m\u001b[43mnc_path\u001b[49m\u001b[38;5;132;43;01m}\u001b[39;49;00m\u001b[33;43m\"\u001b[39;49m\u001b[33;43m'\u001b[39;49m\u001b[43m)\u001b[49m\n",
      "\u001b[36mCell\u001b[39m\u001b[36m \u001b[39m\u001b[32mIn[18]\u001b[39m\u001b[32m, line 34\u001b[39m, in \u001b[36mrun\u001b[39m\u001b[34m(cmd)\u001b[39m\n\u001b[32m     32\u001b[39m \u001b[38;5;28;01mdef\u001b[39;00m\u001b[38;5;250m \u001b[39m\u001b[34mrun\u001b[39m(cmd):\n\u001b[32m     33\u001b[39m     \u001b[38;5;28mprint\u001b[39m(\u001b[33m\"\u001b[39m\u001b[33m$\u001b[39m\u001b[33m\"\u001b[39m, cmd)\n\u001b[32m---> \u001b[39m\u001b[32m34\u001b[39m     \u001b[43msubprocess\u001b[49m\u001b[43m.\u001b[49m\u001b[43mrun\u001b[49m\u001b[43m(\u001b[49m\u001b[43mcmd\u001b[49m\u001b[43m,\u001b[49m\u001b[43m \u001b[49m\u001b[43mshell\u001b[49m\u001b[43m=\u001b[49m\u001b[38;5;28;43;01mTrue\u001b[39;49;00m\u001b[43m,\u001b[49m\u001b[43m \u001b[49m\u001b[43mcheck\u001b[49m\u001b[43m=\u001b[49m\u001b[38;5;28;43;01mTrue\u001b[39;49;00m\u001b[43m)\u001b[49m\n",
      "\u001b[36mFile \u001b[39m\u001b[32m~/.conda/envs/envs/lib/python3.12/subprocess.py:571\u001b[39m, in \u001b[36mrun\u001b[39m\u001b[34m(input, capture_output, timeout, check, *popenargs, **kwargs)\u001b[39m\n\u001b[32m    569\u001b[39m     retcode = process.poll()\n\u001b[32m    570\u001b[39m     \u001b[38;5;28;01mif\u001b[39;00m check \u001b[38;5;129;01mand\u001b[39;00m retcode:\n\u001b[32m--> \u001b[39m\u001b[32m571\u001b[39m         \u001b[38;5;28;01mraise\u001b[39;00m CalledProcessError(retcode, process.args,\n\u001b[32m    572\u001b[39m                                  output=stdout, stderr=stderr)\n\u001b[32m    573\u001b[39m \u001b[38;5;28;01mreturn\u001b[39;00m CompletedProcess(process.args, retcode, stdout, stderr)\n",
      "\u001b[31mCalledProcessError\u001b[39m: Command 'ncks -O -4 -L 1 --mk_rec_dmn time \"/vast/bzaitch1/trp_climate_model_data/era5land_1970_2024_hourly/1970_01.nc\" \"/vast/bzaitch1/trp_climate_model_data/era5land_1970_2024_hourly/1970_01.nc.tmp\" && mv \"/vast/bzaitch1/trp_climate_model_data/era5land_1970_2024_hourly/1970_01.nc.tmp\" \"/vast/bzaitch1/trp_climate_model_data/era5land_1970_2024_hourly/1970_01.nc\"' returned non-zero exit status 137."
     ]
    }
   ],
   "source": [
    "for year in range(1970, 2025):\n",
    "    for qi, (m1,m2,m3) in enumerate(QUARTERS, start=1):\n",
    "        \n",
    "        for f in (m1, m2, m3):\n",
    "            monthly_file = HOURLY_DIR / f\"{year}_{f}.nc\"\n",
    "            if not time_is_unlimited(monthly_file):\n",
    "                print(f\"Making time unlimited in {monthly_file}\")\n",
    "                make_time_unlimited(monthly_file)\n",
    "            else:\n",
    "                print(f\"✓ Record dim OK: {f.name}\")\n",
    "\n",
    "        qtmp = QUARTER_DIR / f\"{year}_Q{qi}_all.nc\"\n",
    "        qout = QUARTER_DIR / f\"{year}_Q{qi}_qmean.nc\"\n",
    "        # concat 3 monthly-hourly files → one quarterly stack\n",
    "        run(f'ncrcat -O \"{HOURLY_DIR}/{year}_{m1}.nc\" \"{HOURLY_DIR}/{year}_{m2}.nc\" \"{HOURLY_DIR}/{year}_{m3}.nc\" \"{qtmp}\"')\n",
    "        # time-mean over all hours in the quarter\n",
    "        run(f'ncra -O --mro -4 -L 1 \"{qtmp}\" \"{qout}\"')\n",
    "        qtmp.unlink(missing_ok=True)"
   ]
  }
 ],
 "metadata": {
  "kernelspec": {
   "display_name": "envs",
   "language": "python",
   "name": "python3"
  },
  "language_info": {
   "codemirror_mode": {
    "name": "ipython",
    "version": 3
   },
   "file_extension": ".py",
   "mimetype": "text/x-python",
   "name": "python",
   "nbconvert_exporter": "python",
   "pygments_lexer": "ipython3",
   "version": "3.12.2"
  }
 },
 "nbformat": 4,
 "nbformat_minor": 5
}
